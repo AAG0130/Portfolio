{
 "cells": [
  {
   "cell_type": "markdown",
   "id": "f1937f4c",
   "metadata": {},
   "source": [
    "<p style=\"text-align:center\">\n",
    "    <a href=\"https://skills.network/?utm_medium=Exinfluencer&utm_source=Exinfluencer&utm_content=000026UJ&utm_term=10006555&utm_id=NA-SkillsNetwork-Channel-SkillsNetworkCoursesIBMDS0321ENSkillsNetwork26802033-2022-01-01\" target=\"_blank\">\n",
    "    <img src=\"https://cf-courses-data.s3.us.cloud-object-storage.appdomain.cloud/assets/logos/SN_web_lightmode.png\" width=\"200\" alt=\"Skills Network Logo\"  />\n",
    "    </a>\n",
    "</p>\n"
   ]
  },
  {
   "cell_type": "markdown",
   "id": "5ba2ad41",
   "metadata": {},
   "source": [
    "# **SpaceX  Falcon 9 First Stage Landing Prediction**\n"
   ]
  },
  {
   "cell_type": "markdown",
   "id": "0302254c",
   "metadata": {},
   "source": [
    "# Part 7: SpaceX Launches - Records Dashboard Dash App\n",
    "\n",
    "**Short description:**  \n",
    "This notebook contains a Dash application that visualizes SpaceX launch records. It provides interactive controls to filter by launch site and payload range, and displays a pie chart of successes and a scatter chart showing the correlation between payload mass and launch success.\n",
    "\n",
    "**Objectives**\n",
    "- Load SpaceX launch data into a DataFrame for visualization.\n",
    "- Build an interactive Dash dashboard with dropdown and range-slider controls.\n",
    "- Visualize total successful launches per site (pie chart) and payload vs. success correlation (scatter chart).\n",
    "- Demonstrate callback wiring in Dash to link controls to visualizations.\n",
    "\n",
    "**Notice about documentation:**  \n",
    "The original notebook submission (course assignment) was kept intact. I have **only modified documentation (comments, headings, markdown)** and made **minimal, necessary corrections** to ensure the notebook runs without errors. All rights related to the lab/workshop design and original exercise belong exclusively to **IBM Corporation**. This notebook includes additional documentation for clarity, but the intellectual property of the original exercise is retained by IBM.\n",
    "\n",
    "---\n",
    "\n",
    "## Table of contents\n",
    "\n",
    "1. Dependencies & execution instructions  \n",
    "2. Data loading & quick inspection  \n",
    "3. App layout (controls, charts)  \n",
    "4. Callbacks (pie chart and scatter chart)  \n",
    "5. Running the app & deployment notes\n"
   ]
  },
  {
   "cell_type": "markdown",
   "id": "62482b23",
   "metadata": {},
   "source": [
    "## 1) Dependencies & execution instructions\n",
    "\n",
    "This section installs and imports required Python packages.  \n",
    "\n",
    "**Recommended local execution steps:**\n",
    "\n",
    "1. Create and activate a Python virtual environment:\n",
    "   - `python -m venv venv`\n",
    "   - `source venv/bin/activate` (macOS / Linux) or `venv\\Scripts\\activate` (Windows)\n",
    "2. Install dependencies:\n",
    "   - `pip install -r requirements.txt`\n",
    "3. Run the app:\n",
    "   * Run `7_Interactive_Visual_Analytics_Plotly.py`\n",
    "   * Run the notebook. Ensure the environment supports Dash in notebooks (or run as script).\n",
    "\n",
    "**Note:** The code uses `dash_html_components` and `dash_core_components` import style — keep packages compatible with that API."
   ]
  },
  {
   "cell_type": "code",
   "execution_count": null,
   "id": "eea7e87a",
   "metadata": {},
   "outputs": [],
   "source": [
    "import pandas as pd\n",
    "import dash\n",
    "from dash import html, dcc\n",
    "from dash.dependencies import Input, Output\n",
    "import plotly.express as px"
   ]
  },
  {
   "cell_type": "markdown",
   "id": "051a3871",
   "metadata": {},
   "source": [
    "\n",
    "## 2) Data loading & quick inspection\n",
    "\n",
    "Load the CSV `spacex_launch_dash.csv` into a pandas DataFrame and determine `min_payload` and `max_payload` used by the payload-range slider.\n"
   ]
  },
  {
   "cell_type": "code",
   "execution_count": null,
   "id": "1b03c5af",
   "metadata": {},
   "outputs": [],
   "source": [
    "# Read the airline data into pandas dataframe\n",
    "spacex_df = pd.read_csv(\"spacex_launch_dash.csv\")\n",
    "max_payload = spacex_df['Payload Mass (kg)'].max()\n",
    "min_payload = spacex_df['Payload Mass (kg)'].min()"
   ]
  },
  {
   "cell_type": "markdown",
   "id": "ad0e85ee",
   "metadata": {},
   "source": [
    "## 3) App layout — controls and chart placeholders\n",
    "\n",
    "This section defines the Dash layout:\n",
    "- Dropdown `site-dropdown` to select All sites or a specific launch site.\n",
    "- Pie chart placeholder (`success-pie-chart`) that shows total successes (or success vs failure for a single site).\n",
    "- RangeSlider `payload-slider` to select payload range.\n",
    "- Scatter chart placeholder (`success-payload-scatter-chart`) that shows correlation between payload and success colored by Booster category."
   ]
  },
  {
   "cell_type": "code",
   "execution_count": null,
   "id": "f77b2e56",
   "metadata": {},
   "outputs": [],
   "source": [
    "# Create a dash application\n",
    "app = dash.Dash(__name__)\n",
    "\n",
    "# Create an app layout\n",
    "app.layout = html.Div(children=[html.H1('SpaceX Launch Records Dashboard',\n",
    "                                        style={'textAlign': 'center', 'color': '#503D36',\n",
    "                                               'font-size': 40}),\n",
    "                                # Dropdown list to enable Launch Site selection\n",
    "                                # The default select value is for ALL sites\n",
    "                                dcc.Dropdown(id='site-dropdown',\n",
    "                                            options=[\n",
    "                                                {'label': 'All Sites', 'value': 'ALL'},\n",
    "                                                {'label': 'CCAFS LC-40', 'value': 'CCAFS LC-40'},\n",
    "                                                {'label': 'VAFB SLC-4E', 'value': 'VAFB SLC-4E'},\n",
    "                                                {'label': 'KSC LC-39A', 'value': 'KSC LC-39A'},\n",
    "                                                {'label': 'CCAFS SLC-40', 'value': 'CCAFS SLC-40'}\n",
    "                                                ],\n",
    "                                                value = 'ALL',\n",
    "                                                placeholder = 'Select a Launch Site here',\n",
    "                                                searchable = True),\n",
    "                                html.Br(),\n",
    "\n",
    "                                # Pie chart to show the total successful launches count for all sites\n",
    "                                # If a specific launch site was selected, show the Success vs. Failed counts for the site\n",
    "                                html.Div(dcc.Graph(id='success-pie-chart')),\n",
    "                                html.Br(),\n",
    "\n",
    "                                html.P(\"Payload range (Kg):\"),\n",
    "                                # Slider to select payload range\n",
    "                                dcc.RangeSlider(id='payload-slider',\n",
    "                                                min=0,\n",
    "                                                max=10000,\n",
    "                                                step=1000,\n",
    "                                                marks={i: '{}'.format(i) for i in range(0, 10001, 1000)},\n",
    "                                                value=[min_payload,max_payload]),\n",
    "\n",
    "                                # Scatter chart to show the correlation between payload and launch success\n",
    "                                html.Div(dcc.Graph(id='success-payload-scatter-chart')),\n",
    "                                ])"
   ]
  },
  {
   "cell_type": "markdown",
   "id": "e59b469d",
   "metadata": {},
   "source": [
    "## 4) Callbacks — interactive chart updates\n",
    "\n",
    "Two callbacks:\n",
    "- Updates the pie chart when `site-dropdown` changes.\n",
    "- Updates the scatter chart when `site-dropdown` or `payload-slider` change.\n",
    "\n",
    "Behavior:\n",
    "- Pie chart: for 'ALL' shows total successes per site, else shows success vs failure counts for selected site.\n",
    "- Scatter chart: filters points by payload range and selected site; x-axis is payload mass, y-axis is class (0/1) and colored by Booster Version Category."
   ]
  },
  {
   "cell_type": "code",
   "execution_count": null,
   "id": "5c10f29c",
   "metadata": {},
   "outputs": [],
   "source": [
    "# Callback function for `site-dropdown` as input, `success-pie-chart` as output\n",
    "@app.callback( Output(component_id='success-pie-chart', component_property='figure'),\n",
    "               Input(component_id='site-dropdown', component_property='value'))\n",
    "\n",
    "def get_pie_chart(launch_site):\n",
    "    filtered_df = spacex_df[spacex_df['Launch Site'] == launch_site]\n",
    "    if launch_site == 'ALL':\n",
    "        fig = px.pie(spacex_df.groupby('Launch Site')['class'].sum().reset_index(),\n",
    "                    values='class', \n",
    "                    names='Launch Site', \n",
    "                    title='Total Success Launches by Site')\n",
    "    else:\n",
    "        filtered_df = filtered_df.groupby(['Launch Site', 'class']).size().reset_index(name='class count')\n",
    "        fig = px.pie(filtered_df, values='class count', names='class', \n",
    "                     title=f\"Total Success Launches for site {launch_site}\")\n",
    "    return(fig)\n",
    "\n",
    "# Callback function for `site-dropdown` and `payload-slider` as inputs, `success-payload-scatter-chart` as output\n",
    "@app.callback( Output(component_id='success-payload-scatter-chart', component_property='figure'),\n",
    "               [Input(component_id='site-dropdown', component_property='value'),\n",
    "               Input(component_id=\"payload-slider\", component_property=\"value\")])\n",
    "\n",
    "def get_payload_chart(launch_site, payload_mass):\n",
    "    if launch_site == 'ALL':\n",
    "        fig = px.scatter(spacex_df[spacex_df['Payload Mass (kg)'].between(payload_mass[0], payload_mass[1])], \n",
    "                x=\"Payload Mass (kg)\",\n",
    "                y=\"class\",\n",
    "                color=\"Booster Version Category\",\n",
    "                hover_data=['Launch Site'],\n",
    "                title='Correlation Between Payload and Success for All Sites')\n",
    "    else:\n",
    "        filtered_df = spacex_df[spacex_df['Launch Site'] == launch_site]\n",
    "        fig = px.scatter(filtered_df[filtered_df['Payload Mass (kg)'].between(payload_mass[0], payload_mass[1])], \n",
    "                x=\"Payload Mass (kg)\",\n",
    "                y=\"class\",\n",
    "                color=\"Booster Version Category\",\n",
    "                hover_data=['Launch Site'],\n",
    "                title='Correlation Between Payload and Success for Site {}'.format(launch_site))\n",
    "    return(fig)"
   ]
  },
  {
   "cell_type": "markdown",
   "id": "945ab85f",
   "metadata": {},
   "source": [
    "## 5) Running the app & deployment notes\n",
    "\n",
    "- Run the app locally with the final `if __name__ == '__main__': app.run_server(port=8054)` block.\n",
    "- For deployment, use `7_Interactive_Visual_Analytics_Plotly.py`, ensure required packages are listed in `requirements.txt`, and configure the hosting environment (e.g., use Gunicorn, set proper host/port, turn off debug).\n",
    "- If the dataset is not available locally, generate `spacex_launch_dash.csv` with the URL and ensure the app can access it in the deployment environment."
   ]
  },
  {
   "cell_type": "code",
   "execution_count": null,
   "id": "6a2854a8",
   "metadata": {},
   "outputs": [],
   "source": [
    "# Run the app\n",
    "if __name__ == '__main__':\n",
    "    app.run(port=8054)"
   ]
  }
 ],
 "metadata": {
  "language_info": {
   "name": "python"
  }
 },
 "nbformat": 4,
 "nbformat_minor": 5
}
